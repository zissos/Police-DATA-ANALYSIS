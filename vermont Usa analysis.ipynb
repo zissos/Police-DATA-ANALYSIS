{
 "cells": [
  {
   "cell_type": "code",
   "execution_count": 1,
   "metadata": {},
   "outputs": [],
   "source": [
    "# the data is https://openpolicing.stanford.edu/data/\n",
    "\n",
    "\n",
    "# # Exploring United States Policing Data Using Python\n",
    "#My porpuse is to clear and visualaze some of my data dor the State vermont"
   ]
  },
  {
   "cell_type": "code",
   "execution_count": 2,
   "metadata": {},
   "outputs": [],
   "source": [
    "#import some packages\n",
    "import pandas as pd\n",
    "import numpy as np\n",
    "import matplotlib.pyplot as plt\n",
    "import seaborn as sns\n",
    "from collections import Counter\n"
   ]
  },
  {
   "cell_type": "code",
   "execution_count": 3,
   "metadata": {},
   "outputs": [
    {
     "name": "stderr",
     "output_type": "stream",
     "text": [
      "C:\\Users\\jim\\Anaconda3\\lib\\site-packages\\IPython\\core\\interactiveshell.py:3020: DtypeWarning: Columns (19) have mixed types. Specify dtype option on import or set low_memory=False.\n",
      "  interactivity=interactivity, compiler=compiler, result=result)\n"
     ]
    }
   ],
   "source": [
    "#import my data \n",
    "df=pd.read_csv('vermont.csv',header=0)"
   ]
  },
  {
   "cell_type": "markdown",
   "metadata": {},
   "source": [
    "# Data Exploration & Cleansing "
   ]
  },
  {
   "cell_type": "code",
   "execution_count": 4,
   "metadata": {},
   "outputs": [
    {
     "data": {
      "text/html": [
       "<div>\n",
       "<style scoped>\n",
       "    .dataframe tbody tr th:only-of-type {\n",
       "        vertical-align: middle;\n",
       "    }\n",
       "\n",
       "    .dataframe tbody tr th {\n",
       "        vertical-align: top;\n",
       "    }\n",
       "\n",
       "    .dataframe thead th {\n",
       "        text-align: right;\n",
       "    }\n",
       "</style>\n",
       "<table border=\"1\" class=\"dataframe\">\n",
       "  <thead>\n",
       "    <tr style=\"text-align: right;\">\n",
       "      <th></th>\n",
       "      <th>id</th>\n",
       "      <th>state</th>\n",
       "      <th>stop_date</th>\n",
       "      <th>stop_time</th>\n",
       "      <th>location_raw</th>\n",
       "      <th>county_name</th>\n",
       "      <th>county_fips</th>\n",
       "      <th>fine_grained_location</th>\n",
       "      <th>police_department</th>\n",
       "      <th>driver_gender</th>\n",
       "      <th>...</th>\n",
       "      <th>driver_race</th>\n",
       "      <th>violation_raw</th>\n",
       "      <th>violation</th>\n",
       "      <th>search_conducted</th>\n",
       "      <th>search_type_raw</th>\n",
       "      <th>search_type</th>\n",
       "      <th>contraband_found</th>\n",
       "      <th>stop_outcome</th>\n",
       "      <th>is_arrested</th>\n",
       "      <th>officer_id</th>\n",
       "    </tr>\n",
       "  </thead>\n",
       "  <tbody>\n",
       "    <tr>\n",
       "      <th>0</th>\n",
       "      <td>VT-2010-00001</td>\n",
       "      <td>VT</td>\n",
       "      <td>2010-07-01</td>\n",
       "      <td>00:10</td>\n",
       "      <td>East Montpelier</td>\n",
       "      <td>Washington County</td>\n",
       "      <td>50023.0</td>\n",
       "      <td>COUNTY RD</td>\n",
       "      <td>MIDDLESEX VSP</td>\n",
       "      <td>M</td>\n",
       "      <td>...</td>\n",
       "      <td>White</td>\n",
       "      <td>Moving Violation</td>\n",
       "      <td>Moving violation</td>\n",
       "      <td>False</td>\n",
       "      <td>No Search Conducted</td>\n",
       "      <td>NaN</td>\n",
       "      <td>False</td>\n",
       "      <td>Citation</td>\n",
       "      <td>False</td>\n",
       "      <td>-1.562157e+09</td>\n",
       "    </tr>\n",
       "    <tr>\n",
       "      <th>1</th>\n",
       "      <td>VT-2010-00002</td>\n",
       "      <td>VT</td>\n",
       "      <td>2010-07-01</td>\n",
       "      <td>00:10</td>\n",
       "      <td>NaN</td>\n",
       "      <td>NaN</td>\n",
       "      <td>NaN</td>\n",
       "      <td>COUNTY RD; Fitch Road</td>\n",
       "      <td>MIDDLESEX VSP</td>\n",
       "      <td>F</td>\n",
       "      <td>...</td>\n",
       "      <td>White</td>\n",
       "      <td>Externally Generated Stop</td>\n",
       "      <td>Other</td>\n",
       "      <td>False</td>\n",
       "      <td>No Search Conducted</td>\n",
       "      <td>NaN</td>\n",
       "      <td>False</td>\n",
       "      <td>Arrest for Violation</td>\n",
       "      <td>True</td>\n",
       "      <td>-1.562157e+09</td>\n",
       "    </tr>\n",
       "    <tr>\n",
       "      <th>2</th>\n",
       "      <td>VT-2010-00003</td>\n",
       "      <td>VT</td>\n",
       "      <td>2010-07-01</td>\n",
       "      <td>00:10</td>\n",
       "      <td>NaN</td>\n",
       "      <td>NaN</td>\n",
       "      <td>NaN</td>\n",
       "      <td>COUNTY RD; Fitch Road</td>\n",
       "      <td>MIDDLESEX VSP</td>\n",
       "      <td>F</td>\n",
       "      <td>...</td>\n",
       "      <td>White</td>\n",
       "      <td>Externally Generated Stop</td>\n",
       "      <td>Other</td>\n",
       "      <td>False</td>\n",
       "      <td>No Search Conducted</td>\n",
       "      <td>NaN</td>\n",
       "      <td>False</td>\n",
       "      <td>Arrest for Violation</td>\n",
       "      <td>True</td>\n",
       "      <td>-1.562157e+09</td>\n",
       "    </tr>\n",
       "    <tr>\n",
       "      <th>3</th>\n",
       "      <td>VT-2010-00004</td>\n",
       "      <td>VT</td>\n",
       "      <td>2010-07-01</td>\n",
       "      <td>00:11</td>\n",
       "      <td>Whiting</td>\n",
       "      <td>Addison County</td>\n",
       "      <td>50001.0</td>\n",
       "      <td>N MAIN ST</td>\n",
       "      <td>NEW HAVEN VSP</td>\n",
       "      <td>F</td>\n",
       "      <td>...</td>\n",
       "      <td>White</td>\n",
       "      <td>Moving Violation</td>\n",
       "      <td>Moving violation</td>\n",
       "      <td>False</td>\n",
       "      <td>No Search Conducted</td>\n",
       "      <td>NaN</td>\n",
       "      <td>False</td>\n",
       "      <td>Arrest for Violation</td>\n",
       "      <td>True</td>\n",
       "      <td>-3.126844e+08</td>\n",
       "    </tr>\n",
       "    <tr>\n",
       "      <th>4</th>\n",
       "      <td>VT-2010-00005</td>\n",
       "      <td>VT</td>\n",
       "      <td>2010-07-01</td>\n",
       "      <td>00:35</td>\n",
       "      <td>Hardwick</td>\n",
       "      <td>Caledonia County</td>\n",
       "      <td>50005.0</td>\n",
       "      <td>i91 nb mm 62</td>\n",
       "      <td>ROYALTON VSP</td>\n",
       "      <td>M</td>\n",
       "      <td>...</td>\n",
       "      <td>White</td>\n",
       "      <td>Moving Violation</td>\n",
       "      <td>Moving violation</td>\n",
       "      <td>False</td>\n",
       "      <td>No Search Conducted</td>\n",
       "      <td>NaN</td>\n",
       "      <td>False</td>\n",
       "      <td>Written Warning</td>\n",
       "      <td>False</td>\n",
       "      <td>9.225661e+08</td>\n",
       "    </tr>\n",
       "    <tr>\n",
       "      <th>5</th>\n",
       "      <td>VT-2010-00006</td>\n",
       "      <td>VT</td>\n",
       "      <td>2010-07-01</td>\n",
       "      <td>00:44</td>\n",
       "      <td>Hardwick</td>\n",
       "      <td>Caledonia County</td>\n",
       "      <td>50005.0</td>\n",
       "      <td>64000 I 91 N; MM64 I 91 N</td>\n",
       "      <td>ROYALTON VSP</td>\n",
       "      <td>F</td>\n",
       "      <td>...</td>\n",
       "      <td>White</td>\n",
       "      <td>Vehicle Equipment</td>\n",
       "      <td>Equipment</td>\n",
       "      <td>False</td>\n",
       "      <td>No Search Conducted</td>\n",
       "      <td>NaN</td>\n",
       "      <td>False</td>\n",
       "      <td>Written Warning</td>\n",
       "      <td>False</td>\n",
       "      <td>-6.032327e+08</td>\n",
       "    </tr>\n",
       "    <tr>\n",
       "      <th>6</th>\n",
       "      <td>VT-2010-00007</td>\n",
       "      <td>VT</td>\n",
       "      <td>2010-07-01</td>\n",
       "      <td>00:50</td>\n",
       "      <td>NaN</td>\n",
       "      <td>NaN</td>\n",
       "      <td>NaN</td>\n",
       "      <td>I 91 N</td>\n",
       "      <td>ST JOHNSBURY VSP</td>\n",
       "      <td>M</td>\n",
       "      <td>...</td>\n",
       "      <td>White</td>\n",
       "      <td>Moving Violation</td>\n",
       "      <td>Moving violation</td>\n",
       "      <td>False</td>\n",
       "      <td>No Search Conducted</td>\n",
       "      <td>NaN</td>\n",
       "      <td>False</td>\n",
       "      <td>Citation</td>\n",
       "      <td>False</td>\n",
       "      <td>-9.697686e+08</td>\n",
       "    </tr>\n",
       "    <tr>\n",
       "      <th>7</th>\n",
       "      <td>VT-2010-00008</td>\n",
       "      <td>VT</td>\n",
       "      <td>2010-07-01</td>\n",
       "      <td>00:55</td>\n",
       "      <td>NaN</td>\n",
       "      <td>NaN</td>\n",
       "      <td>NaN</td>\n",
       "      <td>I 91 N</td>\n",
       "      <td>ST JOHNSBURY VSP</td>\n",
       "      <td>M</td>\n",
       "      <td>...</td>\n",
       "      <td>White</td>\n",
       "      <td>Moving Violation</td>\n",
       "      <td>Moving violation</td>\n",
       "      <td>False</td>\n",
       "      <td>No Search Conducted</td>\n",
       "      <td>NaN</td>\n",
       "      <td>False</td>\n",
       "      <td>Written Warning</td>\n",
       "      <td>False</td>\n",
       "      <td>-9.697686e+08</td>\n",
       "    </tr>\n",
       "    <tr>\n",
       "      <th>8</th>\n",
       "      <td>VT-2010-00009</td>\n",
       "      <td>VT</td>\n",
       "      <td>2010-07-01</td>\n",
       "      <td>01:10</td>\n",
       "      <td>Rochester</td>\n",
       "      <td>Windsor County</td>\n",
       "      <td>50027.0</td>\n",
       "      <td>36000 I 91 S; MM36 I 91 S</td>\n",
       "      <td>ROCKINGHAM VSP</td>\n",
       "      <td>M</td>\n",
       "      <td>...</td>\n",
       "      <td>Black</td>\n",
       "      <td>Moving Violation</td>\n",
       "      <td>Moving violation</td>\n",
       "      <td>False</td>\n",
       "      <td>No Search Conducted</td>\n",
       "      <td>NaN</td>\n",
       "      <td>False</td>\n",
       "      <td>Written Warning</td>\n",
       "      <td>False</td>\n",
       "      <td>2.939526e+08</td>\n",
       "    </tr>\n",
       "    <tr>\n",
       "      <th>9</th>\n",
       "      <td>VT-2010-00010</td>\n",
       "      <td>VT</td>\n",
       "      <td>2010-07-01</td>\n",
       "      <td>01:38</td>\n",
       "      <td>Rutland City</td>\n",
       "      <td>Rutland County</td>\n",
       "      <td>50021.0</td>\n",
       "      <td>WEST St</td>\n",
       "      <td>RUTLAND VSP</td>\n",
       "      <td>M</td>\n",
       "      <td>...</td>\n",
       "      <td>White</td>\n",
       "      <td>Moving Violation</td>\n",
       "      <td>Moving violation</td>\n",
       "      <td>False</td>\n",
       "      <td>No Search Conducted</td>\n",
       "      <td>NaN</td>\n",
       "      <td>False</td>\n",
       "      <td>Written Warning</td>\n",
       "      <td>False</td>\n",
       "      <td>3.559631e+08</td>\n",
       "    </tr>\n",
       "  </tbody>\n",
       "</table>\n",
       "<p>10 rows × 23 columns</p>\n",
       "</div>"
      ],
      "text/plain": [
       "              id state   stop_date stop_time     location_raw  \\\n",
       "0  VT-2010-00001    VT  2010-07-01     00:10  East Montpelier   \n",
       "1  VT-2010-00002    VT  2010-07-01     00:10              NaN   \n",
       "2  VT-2010-00003    VT  2010-07-01     00:10              NaN   \n",
       "3  VT-2010-00004    VT  2010-07-01     00:11          Whiting   \n",
       "4  VT-2010-00005    VT  2010-07-01     00:35         Hardwick   \n",
       "5  VT-2010-00006    VT  2010-07-01     00:44         Hardwick   \n",
       "6  VT-2010-00007    VT  2010-07-01     00:50              NaN   \n",
       "7  VT-2010-00008    VT  2010-07-01     00:55              NaN   \n",
       "8  VT-2010-00009    VT  2010-07-01     01:10        Rochester   \n",
       "9  VT-2010-00010    VT  2010-07-01     01:38     Rutland City   \n",
       "\n",
       "         county_name  county_fips      fine_grained_location  \\\n",
       "0  Washington County      50023.0                  COUNTY RD   \n",
       "1                NaN          NaN      COUNTY RD; Fitch Road   \n",
       "2                NaN          NaN      COUNTY RD; Fitch Road   \n",
       "3     Addison County      50001.0                  N MAIN ST   \n",
       "4   Caledonia County      50005.0               i91 nb mm 62   \n",
       "5   Caledonia County      50005.0  64000 I 91 N; MM64 I 91 N   \n",
       "6                NaN          NaN                     I 91 N   \n",
       "7                NaN          NaN                     I 91 N   \n",
       "8     Windsor County      50027.0  36000 I 91 S; MM36 I 91 S   \n",
       "9     Rutland County      50021.0                    WEST St   \n",
       "\n",
       "  police_department driver_gender      ...       driver_race  \\\n",
       "0     MIDDLESEX VSP             M      ...             White   \n",
       "1     MIDDLESEX VSP             F      ...             White   \n",
       "2     MIDDLESEX VSP             F      ...             White   \n",
       "3     NEW HAVEN VSP             F      ...             White   \n",
       "4      ROYALTON VSP             M      ...             White   \n",
       "5      ROYALTON VSP             F      ...             White   \n",
       "6  ST JOHNSBURY VSP             M      ...             White   \n",
       "7  ST JOHNSBURY VSP             M      ...             White   \n",
       "8    ROCKINGHAM VSP             M      ...             Black   \n",
       "9       RUTLAND VSP             M      ...             White   \n",
       "\n",
       "               violation_raw         violation search_conducted  \\\n",
       "0           Moving Violation  Moving violation            False   \n",
       "1  Externally Generated Stop             Other            False   \n",
       "2  Externally Generated Stop             Other            False   \n",
       "3           Moving Violation  Moving violation            False   \n",
       "4           Moving Violation  Moving violation            False   \n",
       "5          Vehicle Equipment         Equipment            False   \n",
       "6           Moving Violation  Moving violation            False   \n",
       "7           Moving Violation  Moving violation            False   \n",
       "8           Moving Violation  Moving violation            False   \n",
       "9           Moving Violation  Moving violation            False   \n",
       "\n",
       "       search_type_raw search_type  contraband_found          stop_outcome  \\\n",
       "0  No Search Conducted         NaN             False              Citation   \n",
       "1  No Search Conducted         NaN             False  Arrest for Violation   \n",
       "2  No Search Conducted         NaN             False  Arrest for Violation   \n",
       "3  No Search Conducted         NaN             False  Arrest for Violation   \n",
       "4  No Search Conducted         NaN             False       Written Warning   \n",
       "5  No Search Conducted         NaN             False       Written Warning   \n",
       "6  No Search Conducted         NaN             False              Citation   \n",
       "7  No Search Conducted         NaN             False       Written Warning   \n",
       "8  No Search Conducted         NaN             False       Written Warning   \n",
       "9  No Search Conducted         NaN             False       Written Warning   \n",
       "\n",
       "  is_arrested    officer_id  \n",
       "0       False -1.562157e+09  \n",
       "1        True -1.562157e+09  \n",
       "2        True -1.562157e+09  \n",
       "3        True -3.126844e+08  \n",
       "4       False  9.225661e+08  \n",
       "5       False -6.032327e+08  \n",
       "6       False -9.697686e+08  \n",
       "7       False -9.697686e+08  \n",
       "8       False  2.939526e+08  \n",
       "9       False  3.559631e+08  \n",
       "\n",
       "[10 rows x 23 columns]"
      ]
     },
     "execution_count": 4,
     "metadata": {},
     "output_type": "execute_result"
    }
   ],
   "source": [
    "#i want to see how looks  my dataframe\n",
    "df.head(10)"
   ]
  },
  {
   "cell_type": "code",
   "execution_count": 5,
   "metadata": {},
   "outputs": [
    {
     "data": {
      "text/plain": [
       "(283285, 23)"
      ]
     },
     "execution_count": 5,
     "metadata": {},
     "output_type": "execute_result"
    }
   ],
   "source": [
    "df.shape# the shape of df\n"
   ]
  },
  {
   "cell_type": "code",
   "execution_count": 6,
   "metadata": {},
   "outputs": [
    {
     "data": {
      "text/plain": [
       "Index(['id', 'state', 'stop_date', 'stop_time', 'location_raw', 'county_name',\n",
       "       'county_fips', 'fine_grained_location', 'police_department',\n",
       "       'driver_gender', 'driver_age_raw', 'driver_age', 'driver_race_raw',\n",
       "       'driver_race', 'violation_raw', 'violation', 'search_conducted',\n",
       "       'search_type_raw', 'search_type', 'contraband_found', 'stop_outcome',\n",
       "       'is_arrested', 'officer_id'],\n",
       "      dtype='object')"
      ]
     },
     "execution_count": 6,
     "metadata": {},
     "output_type": "execute_result"
    }
   ],
   "source": [
    "#columns names\n",
    "df.columns"
   ]
  },
  {
   "cell_type": "code",
   "execution_count": 7,
   "metadata": {},
   "outputs": [
    {
     "data": {
      "text/plain": [
       "id                        object\n",
       "state                     object\n",
       "stop_date                 object\n",
       "stop_time                 object\n",
       "location_raw              object\n",
       "county_name               object\n",
       "county_fips              float64\n",
       "fine_grained_location     object\n",
       "police_department         object\n",
       "driver_gender             object\n",
       "driver_age_raw           float64\n",
       "driver_age               float64\n",
       "driver_race_raw           object\n",
       "driver_race               object\n",
       "violation_raw             object\n",
       "violation                 object\n",
       "search_conducted            bool\n",
       "search_type_raw           object\n",
       "search_type               object\n",
       "contraband_found          object\n",
       "stop_outcome              object\n",
       "is_arrested                 bool\n",
       "officer_id               float64\n",
       "dtype: object"
      ]
     },
     "execution_count": 7,
     "metadata": {},
     "output_type": "execute_result"
    }
   ],
   "source": [
    "#check the type of each columns\n",
    "df.dtypes"
   ]
  },
  {
   "cell_type": "code",
   "execution_count": 8,
   "metadata": {},
   "outputs": [
    {
     "name": "stdout",
     "output_type": "stream",
     "text": [
      "<class 'pandas.core.frame.DataFrame'>\n",
      "RangeIndex: 283285 entries, 0 to 283284\n",
      "Data columns (total 23 columns):\n",
      "id                       283285 non-null object\n",
      "state                    283285 non-null object\n",
      "stop_date                283285 non-null object\n",
      "stop_time                283285 non-null object\n",
      "location_raw             282591 non-null object\n",
      "county_name              282580 non-null object\n",
      "county_fips              282580 non-null float64\n",
      "fine_grained_location    282938 non-null object\n",
      "police_department        283285 non-null object\n",
      "driver_gender            281573 non-null object\n",
      "driver_age_raw           282114 non-null float64\n",
      "driver_age               281999 non-null float64\n",
      "driver_race_raw          279301 non-null object\n",
      "driver_race              278468 non-null object\n",
      "violation_raw            281107 non-null object\n",
      "violation                281107 non-null object\n",
      "search_conducted         283285 non-null bool\n",
      "search_type_raw          281045 non-null object\n",
      "search_type              3419 non-null object\n",
      "contraband_found         283251 non-null object\n",
      "stop_outcome             280960 non-null object\n",
      "is_arrested              283285 non-null bool\n",
      "officer_id               283273 non-null float64\n",
      "dtypes: bool(2), float64(4), object(17)\n",
      "memory usage: 45.9+ MB\n"
     ]
    }
   ],
   "source": [
    "#some informations about df\n",
    "df.info()"
   ]
  },
  {
   "cell_type": "code",
   "execution_count": 9,
   "metadata": {},
   "outputs": [
    {
     "data": {
      "text/plain": [
       "id                            0\n",
       "state                         0\n",
       "stop_date                     0\n",
       "stop_time                     0\n",
       "location_raw                694\n",
       "county_name                 705\n",
       "county_fips                 705\n",
       "fine_grained_location       347\n",
       "police_department             0\n",
       "driver_gender              1712\n",
       "driver_age_raw             1171\n",
       "driver_age                 1286\n",
       "driver_race_raw            3984\n",
       "driver_race                4817\n",
       "violation_raw              2178\n",
       "violation                  2178\n",
       "search_conducted              0\n",
       "search_type_raw            2240\n",
       "search_type              279866\n",
       "contraband_found             34\n",
       "stop_outcome               2325\n",
       "is_arrested                   0\n",
       "officer_id                   12\n",
       "dtype: int64"
      ]
     },
     "execution_count": 9,
     "metadata": {},
     "output_type": "execute_result"
    }
   ],
   "source": [
    "#does it include NaN values?As well find how many for each column\n",
    "df.isnull().sum()"
   ]
  },
  {
   "cell_type": "code",
   "execution_count": 10,
   "metadata": {},
   "outputs": [],
   "source": [
    "#i must drop the column \"search_type\" because all the elements are NaN \n",
    "df=df.drop(columns=[\"search_type\"])\n"
   ]
  },
  {
   "cell_type": "code",
   "execution_count": 11,
   "metadata": {},
   "outputs": [
    {
     "name": "stdout",
     "output_type": "stream",
     "text": [
      "VT    283285\n",
      "Name: state, dtype: int64\n"
     ]
    }
   ],
   "source": [
    "#check the column \"state\" and drop it(useless)\n",
    "print(df.state.value_counts())\n",
    "df=df.drop(columns=\"state\")#it is contains the same value VT..must be dropped\n"
   ]
  },
  {
   "cell_type": "code",
   "execution_count": 12,
   "metadata": {},
   "outputs": [
    {
     "name": "stdout",
     "output_type": "stream",
     "text": [
      "0    VT-2010-00001\n",
      "1    VT-2010-00002\n",
      "2    VT-2010-00003\n",
      "3    VT-2010-00004\n",
      "4    VT-2010-00005\n",
      "Name: id, dtype: object\n",
      "0     2010-00001\n",
      "1     2010-00002\n",
      "2     2010-00003\n",
      "3     2010-00004\n",
      "4     2010-00005\n",
      "Name: id, dtype: object\n"
     ]
    }
   ],
   "source": [
    "#the \"id\" column contain a number with VT at the beginning for all elements.For this reason i will delete the VT with regular expressions\n",
    "print(df.id.head(5))\n",
    "df.id=df.id.apply(lambda x: x.replace(\"VT-\",\" \"))\n",
    "print(df.id.head(5))\n",
    "\n"
   ]
  },
  {
   "cell_type": "code",
   "execution_count": 13,
   "metadata": {},
   "outputs": [
    {
     "name": "stdout",
     "output_type": "stream",
     "text": [
      "True    283285\n",
      "Name: id, dtype: int64\n"
     ]
    }
   ],
   "source": [
    "#i examine if contain the similar pattent in each element of \"ID\" column\n",
    "patt=\"\\d{4}-\\d{5}\"\n",
    "con=df.id.str.contains(patt)#find if contains the pattern\n",
    "print(con.value_counts())\n",
    "#all elements have similar patt..the \"ID\" is more clear now"
   ]
  },
  {
   "cell_type": "code",
   "execution_count": 14,
   "metadata": {},
   "outputs": [
    {
     "data": {
      "text/plain": [
       "0    2010-07-01\n",
       "1    2010-07-01\n",
       "2    2010-07-01\n",
       "3    2010-07-01\n",
       "4    2010-07-01\n",
       "Name: stop_date, dtype: object"
      ]
     },
     "execution_count": 14,
     "metadata": {},
     "output_type": "execute_result"
    }
   ],
   "source": [
    "#observe that exists two diffirent columns with time and date respectively.i will join them together..\n",
    "df.stop_date.head(5)\n"
   ]
  },
  {
   "cell_type": "code",
   "execution_count": 15,
   "metadata": {},
   "outputs": [
    {
     "data": {
      "text/plain": [
       "0    00:10\n",
       "1    00:10\n",
       "2    00:10\n",
       "3    00:11\n",
       "4    00:35\n",
       "Name: stop_time, dtype: object"
      ]
     },
     "execution_count": 15,
     "metadata": {},
     "output_type": "execute_result"
    }
   ],
   "source": [
    "df.stop_time.head(5)"
   ]
  },
  {
   "cell_type": "code",
   "execution_count": 16,
   "metadata": {
    "scrolled": true
   },
   "outputs": [
    {
     "name": "stdout",
     "output_type": "stream",
     "text": [
      "0    2010-07-01 00:10\n",
      "1    2010-07-01 00:10\n",
      "2    2010-07-01 00:10\n",
      "3    2010-07-01 00:11\n",
      "4    2010-07-01 00:35\n",
      "5    2010-07-01 00:44\n",
      "6    2010-07-01 00:50\n",
      "7    2010-07-01 00:55\n",
      "8    2010-07-01 01:10\n",
      "9    2010-07-01 01:38\n",
      "Name: dt, dtype: object\n",
      "datetime64[ns]\n"
     ]
    }
   ],
   "source": [
    "# \"dt\" the new column with date and time \n",
    "df[\"dt\"]=df.stop_date.str.cat(df.stop_time,sep=\" \")\n",
    "print(df.dt.head(10))\n",
    "df.dt=pd.to_datetime(df.dt)#become datetime type\n",
    "print(df.dt.dtypes)#check if is datetime64 ok\n"
   ]
  },
  {
   "cell_type": "code",
   "execution_count": 17,
   "metadata": {},
   "outputs": [
    {
     "name": "stdout",
     "output_type": "stream",
     "text": [
      "Index(['id', 'location_raw', 'county_name', 'county_fips',\n",
      "       'fine_grained_location', 'police_department', 'driver_gender',\n",
      "       'driver_age_raw', 'driver_age', 'driver_race_raw', 'driver_race',\n",
      "       'violation_raw', 'violation', 'search_conducted', 'search_type_raw',\n",
      "       'contraband_found', 'stop_outcome', 'is_arrested', 'officer_id', 'dt'],\n",
      "      dtype='object')\n"
     ]
    }
   ],
   "source": [
    "#must be dropped the \"stop_date\" and the \"stop_time\" ,i created other column for them (\"dt\")\n",
    "df=df.drop(columns=[\"stop_date\",\"stop_time\"])\n",
    "print(df.columns)\n"
   ]
  },
  {
   "cell_type": "code",
   "execution_count": 18,
   "metadata": {},
   "outputs": [],
   "source": [
    "#change  the index  from \"id\" to \"dt\"\n",
    "df.set_index(\"dt\",inplace=True)\n"
   ]
  },
  {
   "cell_type": "code",
   "execution_count": 19,
   "metadata": {},
   "outputs": [
    {
     "data": {
      "text/html": [
       "<div>\n",
       "<style scoped>\n",
       "    .dataframe tbody tr th:only-of-type {\n",
       "        vertical-align: middle;\n",
       "    }\n",
       "\n",
       "    .dataframe tbody tr th {\n",
       "        vertical-align: top;\n",
       "    }\n",
       "\n",
       "    .dataframe thead th {\n",
       "        text-align: right;\n",
       "    }\n",
       "</style>\n",
       "<table border=\"1\" class=\"dataframe\">\n",
       "  <thead>\n",
       "    <tr style=\"text-align: right;\">\n",
       "      <th></th>\n",
       "      <th>id</th>\n",
       "      <th>location_raw</th>\n",
       "      <th>county_name</th>\n",
       "      <th>county_fips</th>\n",
       "      <th>fine_grained_location</th>\n",
       "      <th>police_department</th>\n",
       "      <th>driver_gender</th>\n",
       "      <th>driver_age_raw</th>\n",
       "      <th>driver_age</th>\n",
       "      <th>driver_race_raw</th>\n",
       "      <th>driver_race</th>\n",
       "      <th>violation_raw</th>\n",
       "      <th>violation</th>\n",
       "      <th>search_conducted</th>\n",
       "      <th>search_type_raw</th>\n",
       "      <th>contraband_found</th>\n",
       "      <th>stop_outcome</th>\n",
       "      <th>is_arrested</th>\n",
       "      <th>officer_id</th>\n",
       "    </tr>\n",
       "    <tr>\n",
       "      <th>dt</th>\n",
       "      <th></th>\n",
       "      <th></th>\n",
       "      <th></th>\n",
       "      <th></th>\n",
       "      <th></th>\n",
       "      <th></th>\n",
       "      <th></th>\n",
       "      <th></th>\n",
       "      <th></th>\n",
       "      <th></th>\n",
       "      <th></th>\n",
       "      <th></th>\n",
       "      <th></th>\n",
       "      <th></th>\n",
       "      <th></th>\n",
       "      <th></th>\n",
       "      <th></th>\n",
       "      <th></th>\n",
       "      <th></th>\n",
       "    </tr>\n",
       "  </thead>\n",
       "  <tbody>\n",
       "    <tr>\n",
       "      <th>2010-07-01 00:10:00</th>\n",
       "      <td>2010-00001</td>\n",
       "      <td>East Montpelier</td>\n",
       "      <td>Washington County</td>\n",
       "      <td>50023.0</td>\n",
       "      <td>COUNTY RD</td>\n",
       "      <td>MIDDLESEX VSP</td>\n",
       "      <td>M</td>\n",
       "      <td>22.0</td>\n",
       "      <td>22.0</td>\n",
       "      <td>White</td>\n",
       "      <td>White</td>\n",
       "      <td>Moving Violation</td>\n",
       "      <td>Moving violation</td>\n",
       "      <td>False</td>\n",
       "      <td>No Search Conducted</td>\n",
       "      <td>False</td>\n",
       "      <td>Citation</td>\n",
       "      <td>False</td>\n",
       "      <td>-1.562157e+09</td>\n",
       "    </tr>\n",
       "    <tr>\n",
       "      <th>2010-07-01 00:10:00</th>\n",
       "      <td>2010-00002</td>\n",
       "      <td>NaN</td>\n",
       "      <td>NaN</td>\n",
       "      <td>NaN</td>\n",
       "      <td>COUNTY RD; Fitch Road</td>\n",
       "      <td>MIDDLESEX VSP</td>\n",
       "      <td>F</td>\n",
       "      <td>21.0</td>\n",
       "      <td>21.0</td>\n",
       "      <td>White</td>\n",
       "      <td>White</td>\n",
       "      <td>Externally Generated Stop</td>\n",
       "      <td>Other</td>\n",
       "      <td>False</td>\n",
       "      <td>No Search Conducted</td>\n",
       "      <td>False</td>\n",
       "      <td>Arrest for Violation</td>\n",
       "      <td>True</td>\n",
       "      <td>-1.562157e+09</td>\n",
       "    </tr>\n",
       "    <tr>\n",
       "      <th>2010-07-01 00:10:00</th>\n",
       "      <td>2010-00003</td>\n",
       "      <td>NaN</td>\n",
       "      <td>NaN</td>\n",
       "      <td>NaN</td>\n",
       "      <td>COUNTY RD; Fitch Road</td>\n",
       "      <td>MIDDLESEX VSP</td>\n",
       "      <td>F</td>\n",
       "      <td>21.0</td>\n",
       "      <td>21.0</td>\n",
       "      <td>White</td>\n",
       "      <td>White</td>\n",
       "      <td>Externally Generated Stop</td>\n",
       "      <td>Other</td>\n",
       "      <td>False</td>\n",
       "      <td>No Search Conducted</td>\n",
       "      <td>False</td>\n",
       "      <td>Arrest for Violation</td>\n",
       "      <td>True</td>\n",
       "      <td>-1.562157e+09</td>\n",
       "    </tr>\n",
       "    <tr>\n",
       "      <th>2010-07-01 00:11:00</th>\n",
       "      <td>2010-00004</td>\n",
       "      <td>Whiting</td>\n",
       "      <td>Addison County</td>\n",
       "      <td>50001.0</td>\n",
       "      <td>N MAIN ST</td>\n",
       "      <td>NEW HAVEN VSP</td>\n",
       "      <td>F</td>\n",
       "      <td>18.0</td>\n",
       "      <td>18.0</td>\n",
       "      <td>White</td>\n",
       "      <td>White</td>\n",
       "      <td>Moving Violation</td>\n",
       "      <td>Moving violation</td>\n",
       "      <td>False</td>\n",
       "      <td>No Search Conducted</td>\n",
       "      <td>False</td>\n",
       "      <td>Arrest for Violation</td>\n",
       "      <td>True</td>\n",
       "      <td>-3.126844e+08</td>\n",
       "    </tr>\n",
       "    <tr>\n",
       "      <th>2010-07-01 00:35:00</th>\n",
       "      <td>2010-00005</td>\n",
       "      <td>Hardwick</td>\n",
       "      <td>Caledonia County</td>\n",
       "      <td>50005.0</td>\n",
       "      <td>i91 nb mm 62</td>\n",
       "      <td>ROYALTON VSP</td>\n",
       "      <td>M</td>\n",
       "      <td>18.0</td>\n",
       "      <td>18.0</td>\n",
       "      <td>White</td>\n",
       "      <td>White</td>\n",
       "      <td>Moving Violation</td>\n",
       "      <td>Moving violation</td>\n",
       "      <td>False</td>\n",
       "      <td>No Search Conducted</td>\n",
       "      <td>False</td>\n",
       "      <td>Written Warning</td>\n",
       "      <td>False</td>\n",
       "      <td>9.225661e+08</td>\n",
       "    </tr>\n",
       "    <tr>\n",
       "      <th>2010-07-01 00:44:00</th>\n",
       "      <td>2010-00006</td>\n",
       "      <td>Hardwick</td>\n",
       "      <td>Caledonia County</td>\n",
       "      <td>50005.0</td>\n",
       "      <td>64000 I 91 N; MM64 I 91 N</td>\n",
       "      <td>ROYALTON VSP</td>\n",
       "      <td>F</td>\n",
       "      <td>20.0</td>\n",
       "      <td>20.0</td>\n",
       "      <td>White</td>\n",
       "      <td>White</td>\n",
       "      <td>Vehicle Equipment</td>\n",
       "      <td>Equipment</td>\n",
       "      <td>False</td>\n",
       "      <td>No Search Conducted</td>\n",
       "      <td>False</td>\n",
       "      <td>Written Warning</td>\n",
       "      <td>False</td>\n",
       "      <td>-6.032327e+08</td>\n",
       "    </tr>\n",
       "  </tbody>\n",
       "</table>\n",
       "</div>"
      ],
      "text/plain": [
       "                              id     location_raw        county_name  \\\n",
       "dt                                                                     \n",
       "2010-07-01 00:10:00   2010-00001  East Montpelier  Washington County   \n",
       "2010-07-01 00:10:00   2010-00002              NaN                NaN   \n",
       "2010-07-01 00:10:00   2010-00003              NaN                NaN   \n",
       "2010-07-01 00:11:00   2010-00004          Whiting     Addison County   \n",
       "2010-07-01 00:35:00   2010-00005         Hardwick   Caledonia County   \n",
       "2010-07-01 00:44:00   2010-00006         Hardwick   Caledonia County   \n",
       "\n",
       "                     county_fips      fine_grained_location police_department  \\\n",
       "dt                                                                              \n",
       "2010-07-01 00:10:00      50023.0                  COUNTY RD     MIDDLESEX VSP   \n",
       "2010-07-01 00:10:00          NaN      COUNTY RD; Fitch Road     MIDDLESEX VSP   \n",
       "2010-07-01 00:10:00          NaN      COUNTY RD; Fitch Road     MIDDLESEX VSP   \n",
       "2010-07-01 00:11:00      50001.0                  N MAIN ST     NEW HAVEN VSP   \n",
       "2010-07-01 00:35:00      50005.0               i91 nb mm 62      ROYALTON VSP   \n",
       "2010-07-01 00:44:00      50005.0  64000 I 91 N; MM64 I 91 N      ROYALTON VSP   \n",
       "\n",
       "                    driver_gender  driver_age_raw  driver_age driver_race_raw  \\\n",
       "dt                                                                              \n",
       "2010-07-01 00:10:00             M            22.0        22.0           White   \n",
       "2010-07-01 00:10:00             F            21.0        21.0           White   \n",
       "2010-07-01 00:10:00             F            21.0        21.0           White   \n",
       "2010-07-01 00:11:00             F            18.0        18.0           White   \n",
       "2010-07-01 00:35:00             M            18.0        18.0           White   \n",
       "2010-07-01 00:44:00             F            20.0        20.0           White   \n",
       "\n",
       "                    driver_race              violation_raw         violation  \\\n",
       "dt                                                                             \n",
       "2010-07-01 00:10:00       White           Moving Violation  Moving violation   \n",
       "2010-07-01 00:10:00       White  Externally Generated Stop             Other   \n",
       "2010-07-01 00:10:00       White  Externally Generated Stop             Other   \n",
       "2010-07-01 00:11:00       White           Moving Violation  Moving violation   \n",
       "2010-07-01 00:35:00       White           Moving Violation  Moving violation   \n",
       "2010-07-01 00:44:00       White          Vehicle Equipment         Equipment   \n",
       "\n",
       "                     search_conducted      search_type_raw contraband_found  \\\n",
       "dt                                                                            \n",
       "2010-07-01 00:10:00             False  No Search Conducted            False   \n",
       "2010-07-01 00:10:00             False  No Search Conducted            False   \n",
       "2010-07-01 00:10:00             False  No Search Conducted            False   \n",
       "2010-07-01 00:11:00             False  No Search Conducted            False   \n",
       "2010-07-01 00:35:00             False  No Search Conducted            False   \n",
       "2010-07-01 00:44:00             False  No Search Conducted            False   \n",
       "\n",
       "                             stop_outcome  is_arrested    officer_id  \n",
       "dt                                                                    \n",
       "2010-07-01 00:10:00              Citation        False -1.562157e+09  \n",
       "2010-07-01 00:10:00  Arrest for Violation         True -1.562157e+09  \n",
       "2010-07-01 00:10:00  Arrest for Violation         True -1.562157e+09  \n",
       "2010-07-01 00:11:00  Arrest for Violation         True -3.126844e+08  \n",
       "2010-07-01 00:35:00       Written Warning        False  9.225661e+08  \n",
       "2010-07-01 00:44:00       Written Warning        False -6.032327e+08  "
      ]
     },
     "execution_count": 19,
     "metadata": {},
     "output_type": "execute_result"
    }
   ],
   "source": [
    "df.head(6)#simple to check if all is good"
   ]
  },
  {
   "cell_type": "code",
   "execution_count": null,
   "metadata": {},
   "outputs": [
    {
     "name": "stdout",
     "output_type": "stream",
     "text": [
      "['MIDDLESEX VSP' 'NEW HAVEN VSP' 'ROYALTON VSP' 'ST JOHNSBURY VSP'\n",
      " 'ROCKINGHAM VSP' 'RUTLAND VSP' 'ST ALBANS VSP'\n",
      " 'VSP HEADQUARTERS - FIELD FORCE' 'BRATTLEBORO VSP' 'WILLISTON VSP'\n",
      " 'SHAFTSBURY VSP' 'DERBY VSP' 'BRADFORD VSP' 'VSP HQ- BCI/SIU/NIU']\n",
      "['MIDDLESEX ' 'NEW HAVEN ' 'ROYALTON ' 'ST JOHNSBURY ' 'ROCKINGHAM '\n",
      " 'RUTLAND ' 'ST ALBANS ' ' HEADQUARTERS - FIELD FORCE' 'BRATTLEBORO '\n",
      " 'WILLISTON ' 'SHAFTSBURY ' 'DERBY ' 'BRADFORD ' ' HQ- BCI/SIU/NIU']\n",
      "object\n"
     ]
    }
   ],
   "source": [
    "#what is \"police_departments\" (this have 0 NaN) \n",
    "print(df.police_department.unique())#it is clear but i must remove VSP because exists in all\n",
    "df.police_department=df.police_department.apply(lambda x: x.replace(\"VSP\",\"\"))\n",
    "print(df.police_department.unique())\n",
    "print(df.police_department.dtypes)#it is OK\n"
   ]
  },
  {
   "cell_type": "code",
   "execution_count": null,
   "metadata": {},
   "outputs": [
    {
     "name": "stdout",
     "output_type": "stream",
     "text": [
      "bool\n"
     ]
    }
   ],
   "source": [
    "print(df.search_conducted.dtypes)#check the type of the column ,it is ok\n"
   ]
  },
  {
   "cell_type": "code",
   "execution_count": null,
   "metadata": {},
   "outputs": [
    {
     "name": "stdout",
     "output_type": "stream",
     "text": [
      "Before drop NaN :   (283285, 19)\n",
      "After drop NaN :   (273181, 19)\n"
     ]
    }
   ],
   "source": [
    "#it's time to clear from the NaN all my Dataframe ,i want as well to observe the diffirence between the shape before drop and after \n",
    "\n",
    "before=df.shape\n",
    "print(\"Before drop NaN :  \",before)\n",
    "\n",
    "df=df.dropna(axis=0, how='any')#drop all the raw if include at least one NaN \n",
    "after=df.shape\n",
    "print(\"After drop NaN :  \",df.shape)"
   ]
  },
  {
   "cell_type": "code",
   "execution_count": null,
   "metadata": {},
   "outputs": [
    {
     "name": "stdout",
     "output_type": "stream",
     "text": [
      "id                       0\n",
      "location_raw             0\n",
      "county_name              0\n",
      "county_fips              0\n",
      "fine_grained_location    0\n",
      "police_department        0\n",
      "driver_gender            0\n",
      "driver_age_raw           0\n",
      "driver_age               0\n",
      "driver_race_raw          0\n",
      "driver_race              0\n",
      "violation_raw            0\n",
      "violation                0\n",
      "search_conducted         0\n",
      "search_type_raw          0\n",
      "contraband_found         0\n",
      "stop_outcome             0\n",
      "is_arrested              0\n",
      "officer_id               0\n",
      "dtype: int64\n"
     ]
    }
   ],
   "source": [
    "#check if dropped\n",
    "print(df.isnull().sum())\n",
    "#it is OK"
   ]
  },
  {
   "cell_type": "code",
   "execution_count": null,
   "metadata": {},
   "outputs": [
    {
     "data": {
      "text/plain": [
       "array(['Moving violation', 'Equipment', 'Other', 'DUI'], dtype=object)"
      ]
     },
     "execution_count": 24,
     "metadata": {},
     "output_type": "execute_result"
    }
   ],
   "source": [
    "#see the unique values of \"violation\"\n",
    "df.violation.unique()\n",
    "\n",
    "\n",
    "#\"Not mapped\" means that, for some reason, the process couldn't find any resources to deploy that component to.\n",
    "#i must drop these data\n",
    "df=df[df.violation!='Other (non-mapped)']\n",
    "df.violation.unique()\n"
   ]
  },
  {
   "cell_type": "code",
   "execution_count": null,
   "metadata": {},
   "outputs": [
    {
     "name": "stdout",
     "output_type": "stream",
     "text": [
      "Do the two columns have the same elements in each row? True\n"
     ]
    }
   ],
   "source": [
    "# i suspect that  \"driver_age\" and \"driver age_raw\"is the some\n",
    "state=df['driver_age'].equals(df['driver_age_raw'])\n",
    "print(\"Do the two columns have the same elements in each row?\" ,state)"
   ]
  },
  {
   "cell_type": "code",
   "execution_count": null,
   "metadata": {},
   "outputs": [],
   "source": [
    "#must drop the \"driver_age_raw\" because is the same with \"driver_age\"\n",
    "df=df.drop(\"driver_age_raw\",axis=1)"
   ]
  },
  {
   "cell_type": "code",
   "execution_count": null,
   "metadata": {},
   "outputs": [
    {
     "name": "stdout",
     "output_type": "stream",
     "text": [
      "Do the two columns have the same elements in each row? False\n",
      "White       261337\n",
      "Black         5571\n",
      "Asian         3446\n",
      "Hispanic      2562\n",
      "Other          263\n",
      "Name: driver_race, dtype: int64\n",
      "White                             261337\n",
      "Black                               5571\n",
      "Asian or Pacific Islander           3446\n",
      "Hispanic                            2562\n",
      "Native Americn or Alaskn Nativ       263\n",
      "Name: driver_race_raw, dtype: int64\n"
     ]
    }
   ],
   "source": [
    "#i suspect that \"driver_race_raw\" and \"driver_race\" is exacly the same.I check it now\n",
    "state2=df['driver_race_raw'].equals(df['driver_race'])\n",
    "print(\"Do the two columns have the same elements in each row?\" ,state2)\n",
    "#must examine much\n",
    "print(df.driver_race.value_counts())\n",
    "print(df.driver_race_raw.value_counts())#maybe the only diffirence is the other and Native american is the same with diffirent name"
   ]
  },
  {
   "cell_type": "code",
   "execution_count": null,
   "metadata": {},
   "outputs": [
    {
     "name": "stdout",
     "output_type": "stream",
     "text": [
      "White                        261337\n",
      "Black                          5571\n",
      "Asian or Pacific Islander      3446\n",
      "Hispanic                       2562\n",
      "Other                           263\n",
      "Name: driver_race, dtype: int64\n",
      "White                        261337\n",
      "Black                          5571\n",
      "Asian or Pacific Islander      3446\n",
      "Hispanic                       2562\n",
      "Other                           263\n",
      "Name: driver_race_raw, dtype: int64\n"
     ]
    }
   ],
   "source": [
    "#remame the Native Americn or Alaskin Nativ to Other in the \"driver_race_raw\"\n",
    "df.driver_race_raw=df.driver_race_raw.str.replace(\"Native Americn or Alaskn Nativ\",\"Other\")\n",
    "#rename the \"Asian\" to \"Asian or Pacific Islander\"\n",
    "df.driver_race=df.driver_race.str.replace(\"Asian\",\"Asian or Pacific Islander\")\n",
    "print(df.driver_race.value_counts())\n",
    "print(df.driver_race_raw.value_counts())\n",
    "df['driver_race_raw'].equals(df['driver_race'])#it is the same.. drop one\n",
    "df=df.drop('driver_race_raw',axis=1)"
   ]
  },
  {
   "cell_type": "code",
   "execution_count": null,
   "metadata": {},
   "outputs": [
    {
     "name": "stdout",
     "output_type": "stream",
     "text": [
      "Moving violation    212100\n",
      "Equipment            50600\n",
      "Other                 9768\n",
      "DUI                    711\n",
      "Name: violation, dtype: int64\n",
      "Moving Violation             212100\n",
      "Vehicle Equipment             50600\n",
      "Externally Generated Stop      6160\n",
      "Investigatory Stop             3608\n",
      "Suspicion of DWI                711\n",
      "Name: violation_raw, dtype: int64\n"
     ]
    }
   ],
   "source": [
    "#i suspect that \"violation\" and \"violation_raw\" is the same.I check it now\n",
    "print(df.violation.value_counts())\n",
    "print(df.violation_raw.value_counts())\n",
    "#it is the same but the column \"violation_raw\"seperate the column Others from \"violation\" to two parts..It have more details i will keep it\n",
    "df=df.drop(\"violation\",axis=1)\n",
    "#i  rename the column \"violation_raw\" to \"violation\"\n",
    "df.rename(columns={'violation_raw':'violation',}, inplace=True)"
   ]
  },
  {
   "cell_type": "code",
   "execution_count": null,
   "metadata": {},
   "outputs": [
    {
     "data": {
      "text/plain": [
       "No Search Conducted               269914\n",
       "Consent Search-Probable Cause       2206\n",
       "Consent Search-Rsnbl Suspicion       846\n",
       "Search with Warrant                  212\n",
       "(Winooski) Passgr Srch                 1\n",
       "Name: search_type_raw, dtype: int64"
      ]
     },
     "execution_count": 30,
     "metadata": {},
     "output_type": "execute_result"
    }
   ],
   "source": [
    "df.search_type_raw.value_counts()"
   ]
  },
  {
   "cell_type": "code",
   "execution_count": null,
   "metadata": {},
   "outputs": [
    {
     "data": {
      "image/png": "[encoded data removed]",
      "text/plain": [
       "<Figure size 792x720 with 2 Axes>"
      ]
     },
     "metadata": {
      "needs_background": "light"
     },
     "output_type": "display_data"
    }
   ],
   "source": [
    "#the correlation between columns of my DF\n",
    "zf,ax = plt.subplots(figsize=(11,10))\n",
    "sns.heatmap(df.corr(), annot=True, linewidths=.5, cmap=\"BuPu\", ax=ax)\n",
    "plt.show()\n",
    "#it seems to exists some correlation between \"search_conducted\"and \"is_arrested\"..It is logical.."
   ]
  },
  {
   "cell_type": "code",
   "execution_count": null,
   "metadata": {},
   "outputs": [
    {
     "data": {
      "text/html": [
       "<div>\n",
       "<style scoped>\n",
       "    .dataframe tbody tr th:only-of-type {\n",
       "        vertical-align: middle;\n",
       "    }\n",
       "\n",
       "    .dataframe tbody tr th {\n",
       "        vertical-align: top;\n",
       "    }\n",
       "\n",
       "    .dataframe thead th {\n",
       "        text-align: right;\n",
       "    }\n",
       "</style>\n",
       "<table border=\"1\" class=\"dataframe\">\n",
       "  <thead>\n",
       "    <tr style=\"text-align: right;\">\n",
       "      <th></th>\n",
       "      <th>id</th>\n",
       "      <th>location_raw</th>\n",
       "      <th>county_name</th>\n",
       "      <th>county_fips</th>\n",
       "      <th>fine_grained_location</th>\n",
       "      <th>police_department</th>\n",
       "      <th>driver_gender</th>\n",
       "      <th>driver_age</th>\n",
       "      <th>driver_race</th>\n",
       "      <th>violation</th>\n",
       "      <th>search_conducted</th>\n",
       "      <th>search_type_raw</th>\n",
       "      <th>contraband_found</th>\n",
       "      <th>stop_outcome</th>\n",
       "      <th>is_arrested</th>\n",
       "      <th>officer_id</th>\n",
       "    </tr>\n",
       "    <tr>\n",
       "      <th>dt</th>\n",
       "      <th></th>\n",
       "      <th></th>\n",
       "      <th></th>\n",
       "      <th></th>\n",
       "      <th></th>\n",
       "      <th></th>\n",
       "      <th></th>\n",
       "      <th></th>\n",
       "      <th></th>\n",
       "      <th></th>\n",
       "      <th></th>\n",
       "      <th></th>\n",
       "      <th></th>\n",
       "      <th></th>\n",
       "      <th></th>\n",
       "      <th></th>\n",
       "    </tr>\n",
       "  </thead>\n",
       "  <tbody>\n",
       "    <tr>\n",
       "      <th>2010-07-01 00:10:00</th>\n",
       "      <td>2010-00001</td>\n",
       "      <td>East Montpelier</td>\n",
       "      <td>Washington County</td>\n",
       "      <td>50023.0</td>\n",
       "      <td>COUNTY RD</td>\n",
       "      <td>MIDDLESEX</td>\n",
       "      <td>M</td>\n",
       "      <td>22.0</td>\n",
       "      <td>White</td>\n",
       "      <td>Moving Violation</td>\n",
       "      <td>False</td>\n",
       "      <td>No Search Conducted</td>\n",
       "      <td>False</td>\n",
       "      <td>Citation</td>\n",
       "      <td>False</td>\n",
       "      <td>-1.562157e+09</td>\n",
       "    </tr>\n",
       "    <tr>\n",
       "      <th>2010-07-01 00:11:00</th>\n",
       "      <td>2010-00004</td>\n",
       "      <td>Whiting</td>\n",
       "      <td>Addison County</td>\n",
       "      <td>50001.0</td>\n",
       "      <td>N MAIN ST</td>\n",
       "      <td>NEW HAVEN</td>\n",
       "      <td>F</td>\n",
       "      <td>18.0</td>\n",
       "      <td>White</td>\n",
       "      <td>Moving Violation</td>\n",
       "      <td>False</td>\n",
       "      <td>No Search Conducted</td>\n",
       "      <td>False</td>\n",
       "      <td>Arrest for Violation</td>\n",
       "      <td>True</td>\n",
       "      <td>-3.126844e+08</td>\n",
       "    </tr>\n",
       "    <tr>\n",
       "      <th>2010-07-01 00:35:00</th>\n",
       "      <td>2010-00005</td>\n",
       "      <td>Hardwick</td>\n",
       "      <td>Caledonia County</td>\n",
       "      <td>50005.0</td>\n",
       "      <td>i91 nb mm 62</td>\n",
       "      <td>ROYALTON</td>\n",
       "      <td>M</td>\n",
       "      <td>18.0</td>\n",
       "      <td>White</td>\n",
       "      <td>Moving Violation</td>\n",
       "      <td>False</td>\n",
       "      <td>No Search Conducted</td>\n",
       "      <td>False</td>\n",
       "      <td>Written Warning</td>\n",
       "      <td>False</td>\n",
       "      <td>9.225661e+08</td>\n",
       "    </tr>\n",
       "    <tr>\n",
       "      <th>2010-07-01 00:44:00</th>\n",
       "      <td>2010-00006</td>\n",
       "      <td>Hardwick</td>\n",
       "      <td>Caledonia County</td>\n",
       "      <td>50005.0</td>\n",
       "      <td>64000 I 91 N; MM64 I 91 N</td>\n",
       "      <td>ROYALTON</td>\n",
       "      <td>F</td>\n",
       "      <td>20.0</td>\n",
       "      <td>White</td>\n",
       "      <td>Vehicle Equipment</td>\n",
       "      <td>False</td>\n",
       "      <td>No Search Conducted</td>\n",
       "      <td>False</td>\n",
       "      <td>Written Warning</td>\n",
       "      <td>False</td>\n",
       "      <td>-6.032327e+08</td>\n",
       "    </tr>\n",
       "    <tr>\n",
       "      <th>2010-07-01 01:10:00</th>\n",
       "      <td>2010-00009</td>\n",
       "      <td>Rochester</td>\n",
       "      <td>Windsor County</td>\n",
       "      <td>50027.0</td>\n",
       "      <td>36000 I 91 S; MM36 I 91 S</td>\n",
       "      <td>ROCKINGHAM</td>\n",
       "      <td>M</td>\n",
       "      <td>24.0</td>\n",
       "      <td>Black</td>\n",
       "      <td>Moving Violation</td>\n",
       "      <td>False</td>\n",
       "      <td>No Search Conducted</td>\n",
       "      <td>False</td>\n",
       "      <td>Written Warning</td>\n",
       "      <td>False</td>\n",
       "      <td>2.939526e+08</td>\n",
       "    </tr>\n",
       "    <tr>\n",
       "      <th>2010-07-01 01:38:00</th>\n",
       "      <td>2010-00010</td>\n",
       "      <td>Rutland City</td>\n",
       "      <td>Rutland County</td>\n",
       "      <td>50021.0</td>\n",
       "      <td>WEST St</td>\n",
       "      <td>RUTLAND</td>\n",
       "      <td>M</td>\n",
       "      <td>19.0</td>\n",
       "      <td>White</td>\n",
       "      <td>Moving Violation</td>\n",
       "      <td>False</td>\n",
       "      <td>No Search Conducted</td>\n",
       "      <td>False</td>\n",
       "      <td>Written Warning</td>\n",
       "      <td>False</td>\n",
       "      <td>3.559631e+08</td>\n",
       "    </tr>\n",
       "    <tr>\n",
       "      <th>2010-07-01 01:45:00</th>\n",
       "      <td>2010-00011</td>\n",
       "      <td>Barnard</td>\n",
       "      <td>Windsor County</td>\n",
       "      <td>50027.0</td>\n",
       "      <td>I 91 N</td>\n",
       "      <td>ST JOHNSBURY</td>\n",
       "      <td>M</td>\n",
       "      <td>21.0</td>\n",
       "      <td>White</td>\n",
       "      <td>Moving Violation</td>\n",
       "      <td>False</td>\n",
       "      <td>No Search Conducted</td>\n",
       "      <td>False</td>\n",
       "      <td>Citation</td>\n",
       "      <td>False</td>\n",
       "      <td>2.733421e+08</td>\n",
       "    </tr>\n",
       "    <tr>\n",
       "      <th>2010-07-01 05:50:00</th>\n",
       "      <td>2010-00013</td>\n",
       "      <td>Lowell</td>\n",
       "      <td>Orleans County</td>\n",
       "      <td>50019.0</td>\n",
       "      <td>VT RT 100</td>\n",
       "      <td>HEADQUARTERS - FIELD FORCE</td>\n",
       "      <td>M</td>\n",
       "      <td>55.0</td>\n",
       "      <td>White</td>\n",
       "      <td>Moving Violation</td>\n",
       "      <td>False</td>\n",
       "      <td>No Search Conducted</td>\n",
       "      <td>False</td>\n",
       "      <td>Citation</td>\n",
       "      <td>False</td>\n",
       "      <td>-1.733191e+09</td>\n",
       "    </tr>\n",
       "  </tbody>\n",
       "</table>\n",
       "</div>"
      ],
      "text/plain": [
       "                              id     location_raw        county_name  \\\n",
       "dt                                                                     \n",
       "2010-07-01 00:10:00   2010-00001  East Montpelier  Washington County   \n",
       "2010-07-01 00:11:00   2010-00004          Whiting     Addison County   \n",
       "2010-07-01 00:35:00   2010-00005         Hardwick   Caledonia County   \n",
       "2010-07-01 00:44:00   2010-00006         Hardwick   Caledonia County   \n",
       "2010-07-01 01:10:00   2010-00009        Rochester     Windsor County   \n",
       "2010-07-01 01:38:00   2010-00010     Rutland City     Rutland County   \n",
       "2010-07-01 01:45:00   2010-00011          Barnard     Windsor County   \n",
       "2010-07-01 05:50:00   2010-00013           Lowell     Orleans County   \n",
       "\n",
       "                     county_fips      fine_grained_location  \\\n",
       "dt                                                            \n",
       "2010-07-01 00:10:00      50023.0                  COUNTY RD   \n",
       "2010-07-01 00:11:00      50001.0                  N MAIN ST   \n",
       "2010-07-01 00:35:00      50005.0               i91 nb mm 62   \n",
       "2010-07-01 00:44:00      50005.0  64000 I 91 N; MM64 I 91 N   \n",
       "2010-07-01 01:10:00      50027.0  36000 I 91 S; MM36 I 91 S   \n",
       "2010-07-01 01:38:00      50021.0                    WEST St   \n",
       "2010-07-01 01:45:00      50027.0                     I 91 N   \n",
       "2010-07-01 05:50:00      50019.0                  VT RT 100   \n",
       "\n",
       "                               police_department driver_gender  driver_age  \\\n",
       "dt                                                                           \n",
       "2010-07-01 00:10:00                   MIDDLESEX              M        22.0   \n",
       "2010-07-01 00:11:00                   NEW HAVEN              F        18.0   \n",
       "2010-07-01 00:35:00                    ROYALTON              M        18.0   \n",
       "2010-07-01 00:44:00                    ROYALTON              F        20.0   \n",
       "2010-07-01 01:10:00                  ROCKINGHAM              M        24.0   \n",
       "2010-07-01 01:38:00                     RUTLAND              M        19.0   \n",
       "2010-07-01 01:45:00                ST JOHNSBURY              M        21.0   \n",
       "2010-07-01 05:50:00   HEADQUARTERS - FIELD FORCE             M        55.0   \n",
       "\n",
       "                    driver_race          violation  search_conducted  \\\n",
       "dt                                                                     \n",
       "2010-07-01 00:10:00       White   Moving Violation             False   \n",
       "2010-07-01 00:11:00       White   Moving Violation             False   \n",
       "2010-07-01 00:35:00       White   Moving Violation             False   \n",
       "2010-07-01 00:44:00       White  Vehicle Equipment             False   \n",
       "2010-07-01 01:10:00       Black   Moving Violation             False   \n",
       "2010-07-01 01:38:00       White   Moving Violation             False   \n",
       "2010-07-01 01:45:00       White   Moving Violation             False   \n",
       "2010-07-01 05:50:00       White   Moving Violation             False   \n",
       "\n",
       "                         search_type_raw contraband_found  \\\n",
       "dt                                                          \n",
       "2010-07-01 00:10:00  No Search Conducted            False   \n",
       "2010-07-01 00:11:00  No Search Conducted            False   \n",
       "2010-07-01 00:35:00  No Search Conducted            False   \n",
       "2010-07-01 00:44:00  No Search Conducted            False   \n",
       "2010-07-01 01:10:00  No Search Conducted            False   \n",
       "2010-07-01 01:38:00  No Search Conducted            False   \n",
       "2010-07-01 01:45:00  No Search Conducted            False   \n",
       "2010-07-01 05:50:00  No Search Conducted            False   \n",
       "\n",
       "                             stop_outcome  is_arrested    officer_id  \n",
       "dt                                                                    \n",
       "2010-07-01 00:10:00              Citation        False -1.562157e+09  \n",
       "2010-07-01 00:11:00  Arrest for Violation         True -3.126844e+08  \n",
       "2010-07-01 00:35:00       Written Warning        False  9.225661e+08  \n",
       "2010-07-01 00:44:00       Written Warning        False -6.032327e+08  \n",
       "2010-07-01 01:10:00       Written Warning        False  2.939526e+08  \n",
       "2010-07-01 01:38:00       Written Warning        False  3.559631e+08  \n",
       "2010-07-01 01:45:00              Citation        False  2.733421e+08  \n",
       "2010-07-01 05:50:00              Citation        False -1.733191e+09  "
      ]
     },
     "execution_count": 32,
     "metadata": {},
     "output_type": "execute_result"
    }
   ],
   "source": [
    "df.head(8)#simple to check if all is good"
   ]
  },
  {
   "cell_type": "markdown",
   "metadata": {},
   "source": [
    "   # Data Analysis & Vizualization"
   ]
  },
  {
   "cell_type": "markdown",
   "metadata": {},
   "source": [
    "#    Moving violation for each Gender"
   ]
  },
  {
   "cell_type": "code",
   "execution_count": null,
   "metadata": {},
   "outputs": [
    {
     "name": "stdout",
     "output_type": "stream",
     "text": [
      "Females possibilities for each type od violation \n",
      " Moving Violation             0.774051\n",
      "Vehicle Equipment            0.189232\n",
      "Externally Generated Stop    0.021552\n",
      "Investigatory Stop           0.013167\n",
      "Suspicion of DWI             0.001998\n",
      "Name: violation, dtype: float64\n"
     ]
    }
   ],
   "source": [
    "# Create a DataFrame of female drivers\n",
    "female = df[df.driver_gender == 'F']\n",
    "\n",
    "# Create a DataFrame of male drivers\n",
    "male = df[df.driver_gender == 'M']\n",
    "\n",
    "# Compute the violations by female drivers\n",
    "v_female=female.violation.value_counts(normalize=True)\n",
    "print(\"Females possibilities for each type od violation \\n\",female.violation.value_counts(normalize=True))\n",
    "# Compute the violations by male drivers \n",
    "v_male=male.violation.value_counts(normalize=True)\n"
   ]
  },
  {
   "cell_type": "code",
   "execution_count": null,
   "metadata": {},
   "outputs": [
    {
     "data": {
      "image/png": "[encoded data removed]",
      "text/plain": [
       "<Figure size 432x288 with 1 Axes>"
      ]
     },
     "metadata": {
      "needs_background": "light"
     },
     "output_type": "display_data"
    }
   ],
   "source": [
    "#vizualization for males\n",
    "v_male.plot(kind=\"barh\",color=\"blue\")\n",
    "plt.title(\"probability for each violation for males\")\n",
    "plt.show()\n"
   ]
  },
  {
   "cell_type": "code",
   "execution_count": null,
   "metadata": {},
   "outputs": [
    {
     "data": {
      "image/png": "[encoded data removed]",
      "text/plain": [
       "<Figure size 432x288 with 1 Axes>"
      ]
     },
     "metadata": {
      "needs_background": "light"
     },
     "output_type": "display_data"
    }
   ],
   "source": [
    "#vizualization for females 1way\n",
    "v_female.plot(kind=\"barh\",color=\"pink\")\n",
    "plt.title(\"probability for each violation for males\")\n",
    "plt.show()\n"
   ]
  },
  {
   "cell_type": "code",
   "execution_count": null,
   "metadata": {},
   "outputs": [
    {
     "data": {
      "image/png": "[encoded data removed]",
      "text/plain": [
       "<Figure size 432x288 with 1 Axes>"
      ]
     },
     "metadata": {
      "needs_background": "light"
     },
     "output_type": "display_data"
    }
   ],
   "source": [
    "#vizualization for females 2way\n",
    "v_female.plot(kind=\"barh\",facecolor=(0, 0, 0, 0),\n",
    "                    linewidth=5,\n",
    "                    edgecolor=sns.color_palette(\"dark\", 3))\n",
    "plt.title(\"probability for each violation for males\")\n",
    "plt.show()\n",
    "\n"
   ]
  },
  {
   "cell_type": "code",
   "execution_count": null,
   "metadata": {},
   "outputs": [
    {
     "data": {
      "image/png": "[encoded data removed]",
      "text/plain": [
       "<Figure size 432x288 with 1 Axes>"
      ]
     },
     "metadata": {},
     "output_type": "display_data"
    }
   ],
   "source": [
    "#make the pie for males for each type of violation\n",
    "labels=[v_male.index[0],v_male.index[1],v_male.index[2],v_male.index[3],v_male.index[4]]\n",
    "colors=[\"yellow\",\"tomato\",\"blue\",\"pink\",\"green\"]\n",
    "values=[v_male[0],v_male[1],v_male[2],v_male[3],v_male[4]]\n",
    "explode = (0, 0, 0.1, 0.2, 0.2)\n",
    "plt.pie(values,labels=labels,colors=colors,autopct=\"%.lf%%\",explode=explode,counterclock=False, shadow=True)\n",
    "plt.title(\"violations of males\")\n",
    "plt.show()\n"
   ]
  },
  {
   "cell_type": "markdown",
   "metadata": {},
   "source": [
    "#  For each Gender and violation find mean age"
   ]
  },
  {
   "cell_type": "code",
   "execution_count": null,
   "metadata": {},
   "outputs": [
    {
     "data": {
      "text/html": [
       "<div>\n",
       "<style scoped>\n",
       "    .dataframe tbody tr th:only-of-type {\n",
       "        vertical-align: middle;\n",
       "    }\n",
       "\n",
       "    .dataframe tbody tr th {\n",
       "        vertical-align: top;\n",
       "    }\n",
       "\n",
       "    .dataframe thead th {\n",
       "        text-align: right;\n",
       "    }\n",
       "</style>\n",
       "<table border=\"1\" class=\"dataframe\">\n",
       "  <thead>\n",
       "    <tr style=\"text-align: right;\">\n",
       "      <th>driver_gender</th>\n",
       "      <th>F</th>\n",
       "      <th>M</th>\n",
       "    </tr>\n",
       "    <tr>\n",
       "      <th>violation</th>\n",
       "      <th></th>\n",
       "      <th></th>\n",
       "    </tr>\n",
       "  </thead>\n",
       "  <tbody>\n",
       "    <tr>\n",
       "      <th>Externally Generated Stop</th>\n",
       "      <td>34.744382</td>\n",
       "      <td>35.312624</td>\n",
       "    </tr>\n",
       "    <tr>\n",
       "      <th>Investigatory Stop</th>\n",
       "      <td>34.606897</td>\n",
       "      <td>34.464177</td>\n",
       "    </tr>\n",
       "    <tr>\n",
       "      <th>Moving Violation</th>\n",
       "      <td>38.688752</td>\n",
       "      <td>39.755848</td>\n",
       "    </tr>\n",
       "    <tr>\n",
       "      <th>Suspicion of DWI</th>\n",
       "      <td>37.166667</td>\n",
       "      <td>38.647173</td>\n",
       "    </tr>\n",
       "    <tr>\n",
       "      <th>Vehicle Equipment</th>\n",
       "      <td>37.115916</td>\n",
       "      <td>37.239567</td>\n",
       "    </tr>\n",
       "  </tbody>\n",
       "</table>\n",
       "</div>"
      ],
      "text/plain": [
       "driver_gender                      F          M\n",
       "violation                                      \n",
       "Externally Generated Stop  34.744382  35.312624\n",
       "Investigatory Stop         34.606897  34.464177\n",
       "Moving Violation           38.688752  39.755848\n",
       "Suspicion of DWI           37.166667  38.647173\n",
       "Vehicle Equipment          37.115916  37.239567"
      ]
     },
     "execution_count": 38,
     "metadata": {},
     "output_type": "execute_result"
    }
   ],
   "source": [
    "#Create a pivot_table to find for each \"gender\" and \"violation\" the mean \"driver_age\"\n",
    "piv=df.pivot_table(index=\"violation\",columns=\"driver_gender\",values=\"driver_age\",aggfunc=np.mean)\n",
    "piv"
   ]
  },
  {
   "cell_type": "code",
   "execution_count": null,
   "metadata": {},
   "outputs": [
    {
     "data": {
      "image/png": "[encoded data removed]",
      "text/plain": [
       "<Figure size 432x288 with 1 Axes>"
      ]
     },
     "metadata": {
      "needs_background": "light"
     },
     "output_type": "display_data"
    }
   ],
   "source": [
    "#visualization\n",
    "piv.plot(kind=\"bar\")\n",
    "plt.legend(loc=\"best\")#find the best location to put the box\n",
    "\n",
    "plt.grid()\n",
    "plt.show()\n"
   ]
  },
  {
   "cell_type": "code",
   "execution_count": null,
   "metadata": {},
   "outputs": [],
   "source": []
  },
  {
   "cell_type": "markdown",
   "metadata": {},
   "source": [
    " #  \"Violation\" regarded to \"search_type_raw\" ?\n",
    " "
   ]
  },
  {
   "cell_type": "code",
   "execution_count": null,
   "metadata": {},
   "outputs": [
    {
     "data": {
      "text/html": [
       "<div>\n",
       "<style scoped>\n",
       "    .dataframe tbody tr th:only-of-type {\n",
       "        vertical-align: middle;\n",
       "    }\n",
       "\n",
       "    .dataframe tbody tr th {\n",
       "        vertical-align: top;\n",
       "    }\n",
       "\n",
       "    .dataframe thead th {\n",
       "        text-align: right;\n",
       "    }\n",
       "</style>\n",
       "<table border=\"1\" class=\"dataframe\">\n",
       "  <thead>\n",
       "    <tr style=\"text-align: right;\">\n",
       "      <th>search_type_raw</th>\n",
       "      <th>(Winooski) Passgr Srch</th>\n",
       "      <th>Consent Search-Probable Cause</th>\n",
       "      <th>Consent Search-Rsnbl Suspicion</th>\n",
       "      <th>No Search Conducted</th>\n",
       "      <th>Search with Warrant</th>\n",
       "    </tr>\n",
       "    <tr>\n",
       "      <th>violation</th>\n",
       "      <th></th>\n",
       "      <th></th>\n",
       "      <th></th>\n",
       "      <th></th>\n",
       "      <th></th>\n",
       "    </tr>\n",
       "  </thead>\n",
       "  <tbody>\n",
       "    <tr>\n",
       "      <th>Externally Generated Stop</th>\n",
       "      <td>0</td>\n",
       "      <td>146</td>\n",
       "      <td>53</td>\n",
       "      <td>5929</td>\n",
       "      <td>32</td>\n",
       "    </tr>\n",
       "    <tr>\n",
       "      <th>Investigatory Stop</th>\n",
       "      <td>0</td>\n",
       "      <td>131</td>\n",
       "      <td>46</td>\n",
       "      <td>3421</td>\n",
       "      <td>10</td>\n",
       "    </tr>\n",
       "    <tr>\n",
       "      <th>Moving Violation</th>\n",
       "      <td>1</td>\n",
       "      <td>1313</td>\n",
       "      <td>505</td>\n",
       "      <td>210166</td>\n",
       "      <td>115</td>\n",
       "    </tr>\n",
       "    <tr>\n",
       "      <th>Suspicion of DWI</th>\n",
       "      <td>0</td>\n",
       "      <td>33</td>\n",
       "      <td>13</td>\n",
       "      <td>659</td>\n",
       "      <td>6</td>\n",
       "    </tr>\n",
       "    <tr>\n",
       "      <th>Vehicle Equipment</th>\n",
       "      <td>0</td>\n",
       "      <td>583</td>\n",
       "      <td>229</td>\n",
       "      <td>49739</td>\n",
       "      <td>49</td>\n",
       "    </tr>\n",
       "  </tbody>\n",
       "</table>\n",
       "</div>"
      ],
      "text/plain": [
       "search_type_raw            (Winooski) Passgr Srch  \\\n",
       "violation                                           \n",
       "Externally Generated Stop                       0   \n",
       "Investigatory Stop                              0   \n",
       "Moving Violation                                1   \n",
       "Suspicion of DWI                                0   \n",
       "Vehicle Equipment                               0   \n",
       "\n",
       "search_type_raw            Consent Search-Probable Cause  \\\n",
       "violation                                                  \n",
       "Externally Generated Stop                            146   \n",
       "Investigatory Stop                                   131   \n",
       "Moving Violation                                    1313   \n",
       "Suspicion of DWI                                      33   \n",
       "Vehicle Equipment                                    583   \n",
       "\n",
       "search_type_raw            Consent Search-Rsnbl Suspicion  \\\n",
       "violation                                                   \n",
       "Externally Generated Stop                              53   \n",
       "Investigatory Stop                                     46   \n",
       "Moving Violation                                      505   \n",
       "Suspicion of DWI                                       13   \n",
       "Vehicle Equipment                                     229   \n",
       "\n",
       "search_type_raw            No Search Conducted  Search with Warrant  \n",
       "violation                                                            \n",
       "Externally Generated Stop                 5929                   32  \n",
       "Investigatory Stop                        3421                   10  \n",
       "Moving Violation                        210166                  115  \n",
       "Suspicion of DWI                           659                    6  \n",
       "Vehicle Equipment                        49739                   49  "
      ]
     },
     "execution_count": 40,
     "metadata": {},
     "output_type": "execute_result"
    }
   ],
   "source": [
    "#make a table for violation and search_type_raw\n",
    "state3=pd.crosstab(df.violation,df.search_type_raw)\n",
    "state3"
   ]
  },
  {
   "cell_type": "code",
   "execution_count": null,
   "metadata": {},
   "outputs": [
    {
     "data": {
      "image/png": "[encoded data removed]",
      "text/plain": [
       "<Figure size 576x576 with 1 Axes>"
      ]
     },
     "metadata": {
      "needs_background": "light"
     },
     "output_type": "display_data"
    }
   ],
   "source": [
    "state3.plot(kind=\"bar\", \n",
    "                 figsize=(8,8),\n",
    "                 stacked=True)\n",
    "plt.yscale(\"symlog\",linthreshx=5.)#i take log because the no search is huge and dont seems good\n",
    "\n",
    "\n",
    "plt.legend(loc=\"best\")\n",
    "plt.show()"
   ]
  },
  {
   "cell_type": "markdown",
   "metadata": {},
   "source": [
    "# Place that stopped and Nation\n"
   ]
  },
  {
   "cell_type": "code",
   "execution_count": null,
   "metadata": {},
   "outputs": [
    {
     "name": "stdout",
     "output_type": "stream",
     "text": [
      "<class 'pandas.core.frame.DataFrame'>\n",
      "DatetimeIndex: 5571 entries, 2010-07-01 01:10:00 to 2015-12-31 21:10:00\n",
      "Data columns (total 16 columns):\n",
      "id                       5571 non-null object\n",
      "location_raw             5571 non-null object\n",
      "county_name              5571 non-null object\n",
      "county_fips              5571 non-null float64\n",
      "fine_grained_location    5571 non-null object\n",
      "police_department        5571 non-null object\n",
      "driver_gender            5571 non-null object\n",
      "driver_age               5571 non-null float64\n",
      "driver_race              5571 non-null object\n",
      "violation                5571 non-null object\n",
      "search_conducted         5571 non-null bool\n",
      "search_type_raw          5571 non-null object\n",
      "contraband_found         5571 non-null object\n",
      "stop_outcome             5571 non-null object\n",
      "is_arrested              5571 non-null bool\n",
      "officer_id               5571 non-null float64\n",
      "dtypes: bool(2), float64(3), object(11)\n",
      "memory usage: 663.7+ KB\n",
      "Brattleboro    295\n",
      "Guilford       227\n",
      "Rockingham     215\n",
      "Berlin         203\n",
      "Hartford       159\n",
      "Springfield    147\n",
      "Dummerston     146\n",
      "Sharon         144\n",
      "Williston      136\n",
      "Name: location_raw, dtype: int64\n"
     ]
    },
    {
     "data": {
      "image/png": "[encoded data removed]",
      "text/plain": [
       "<Figure size 432x288 with 1 Axes>"
      ]
     },
     "metadata": {
      "needs_background": "light"
     },
     "output_type": "display_data"
    }
   ],
   "source": [
    "#i group my data by  driver_race\n",
    "race=df.groupby(\"driver_race\")\n",
    "#i want to examine the \"black\" nation\n",
    "blacks=race.get_group(\"Black\")\n",
    "blacks.info()\n",
    "#where stopped most of blacks?the top 10 places\n",
    "print(blacks.location_raw.value_counts()[0:9])\n",
    "blacks.location_raw.value_counts()[0:9].plot(kind=\"bar\")\n",
    "plt.title(\"The top10 places that stopped the black nation\")\n",
    "plt.show()\n",
    "\n"
   ]
  },
  {
   "cell_type": "code",
   "execution_count": null,
   "metadata": {},
   "outputs": [
    {
     "name": "stdout",
     "output_type": "stream",
     "text": [
      "Brattleboro    8886\n",
      "Rockingham     6492\n",
      "Hartford       5625\n",
      "Dorset         5245\n",
      "Berlin         5212\n",
      "Dummerston     4590\n",
      "Fairlee        4470\n",
      "Hartland       4458\n",
      "Guilford       4288\n",
      "Name: location_raw, dtype: int64\n"
     ]
    },
    {
     "data": {
      "image/png": "[encoded data removed]",
      "text/plain": [
       "<Figure size 432x288 with 1 Axes>"
      ]
     },
     "metadata": {
      "needs_background": "light"
     },
     "output_type": "display_data"
    }
   ],
   "source": [
    "#i want to examine the \"White\" nation\n",
    "whites=race.get_group(\"White\")\n",
    "\n",
    "#where stopped most of whites?the top 10 places\n",
    "print(whites.location_raw.value_counts()[0:9])\n",
    "whites.location_raw.value_counts()[0:9].plot(kind=\"bar\")\n",
    "plt.title(\"The top10 places that stopped the white nation\")\n",
    "plt.show()\n"
   ]
  },
  {
   "cell_type": "code",
   "execution_count": null,
   "metadata": {},
   "outputs": [
    {
     "name": "stdout",
     "output_type": "stream",
     "text": [
      "Rockingham     185\n",
      "Brattleboro    159\n",
      "Berlin         147\n",
      "Guilford       136\n",
      "Dummerston     110\n",
      "Springfield    102\n",
      "Royalton       100\n",
      "Hartford       100\n",
      "Williston       80\n",
      "Name: location_raw, dtype: int64\n"
     ]
    },
    {
     "data": {
      "image/png": "[encoded data removed]",
      "text/plain": [
       "<Figure size 432x288 with 1 Axes>"
      ]
     },
     "metadata": {
      "needs_background": "light"
     },
     "output_type": "display_data"
    }
   ],
   "source": [
    "\n",
    "#i want to examine the \"Asian or Pacific Islander\" nation\n",
    "asian_pac=race.get_group(\"Asian or Pacific Islander\")\n",
    "\n",
    "#where stopped most of \"Asian or Pacific\"?the top 10 places\n",
    "print(asian_pac.location_raw.value_counts()[0:9])\n",
    "asian_pac.location_raw.value_counts()[0:9].plot(kind=\"bar\")\n",
    "plt.title(\"The top10 places that stopped the  Asian or Pacific Islander nation\")\n",
    "plt.show()\n"
   ]
  },
  {
   "cell_type": "markdown",
   "metadata": {},
   "source": [
    "# Gender and Nation drivers"
   ]
  },
  {
   "cell_type": "code",
   "execution_count": null,
   "metadata": {},
   "outputs": [
    {
     "name": "stdout",
     "output_type": "stream",
     "text": [
      "driver_race    Asian or Pacific Islander     Black  Hispanic     Other  \\\n",
      "driver_gender                                                            \n",
      "F                               0.003741  0.004902  0.002119  0.000275   \n",
      "M                               0.008873  0.015492  0.007259  0.000688   \n",
      "\n",
      "driver_race       White  \n",
      "driver_gender            \n",
      "F              0.351769  \n",
      "M              0.604882  \n"
     ]
    },
    {
     "data": {
      "image/png": "[encoded data removed]",
      "text/plain": [
       "<Figure size 432x288 with 1 Axes>"
      ]
     },
     "metadata": {
      "needs_background": "light"
     },
     "output_type": "display_data"
    }
   ],
   "source": [
    "#i want the probability\n",
    "cr=pd.crosstab(df.driver_gender,df.driver_race,normalize=True)\n",
    "print(cr)\n",
    "#plot bar  the above\n",
    "cr.plot(kind=\"bar\",rot=0)\n",
    "plt.legend(title=\"RACE\",loc=2)\n",
    "plt.show()\n"
   ]
  },
  {
   "cell_type": "markdown",
   "metadata": {},
   "source": [
    "#  i want to see is_arested and age,sex"
   ]
  },
  {
   "cell_type": "code",
   "execution_count": null,
   "metadata": {},
   "outputs": [
    {
     "data": {
      "text/html": [
       "<div>\n",
       "<style scoped>\n",
       "    .dataframe tbody tr th:only-of-type {\n",
       "        vertical-align: middle;\n",
       "    }\n",
       "\n",
       "    .dataframe tbody tr th {\n",
       "        vertical-align: top;\n",
       "    }\n",
       "\n",
       "    .dataframe thead th {\n",
       "        text-align: right;\n",
       "    }\n",
       "</style>\n",
       "<table border=\"1\" class=\"dataframe\">\n",
       "  <thead>\n",
       "    <tr style=\"text-align: right;\">\n",
       "      <th></th>\n",
       "      <th>id</th>\n",
       "      <th>location_raw</th>\n",
       "      <th>county_name</th>\n",
       "      <th>county_fips</th>\n",
       "      <th>fine_grained_location</th>\n",
       "      <th>police_department</th>\n",
       "      <th>driver_gender</th>\n",
       "      <th>driver_age</th>\n",
       "      <th>driver_race</th>\n",
       "      <th>violation</th>\n",
       "      <th>search_conducted</th>\n",
       "      <th>search_type_raw</th>\n",
       "      <th>contraband_found</th>\n",
       "      <th>stop_outcome</th>\n",
       "      <th>is_arrested</th>\n",
       "      <th>officer_id</th>\n",
       "    </tr>\n",
       "    <tr>\n",
       "      <th>dt</th>\n",
       "      <th></th>\n",
       "      <th></th>\n",
       "      <th></th>\n",
       "      <th></th>\n",
       "      <th></th>\n",
       "      <th></th>\n",
       "      <th></th>\n",
       "      <th></th>\n",
       "      <th></th>\n",
       "      <th></th>\n",
       "      <th></th>\n",
       "      <th></th>\n",
       "      <th></th>\n",
       "      <th></th>\n",
       "      <th></th>\n",
       "      <th></th>\n",
       "    </tr>\n",
       "  </thead>\n",
       "  <tbody>\n",
       "    <tr>\n",
       "      <th>2010-07-01 00:11:00</th>\n",
       "      <td>2010-00004</td>\n",
       "      <td>Whiting</td>\n",
       "      <td>Addison County</td>\n",
       "      <td>50001.0</td>\n",
       "      <td>N MAIN ST</td>\n",
       "      <td>NEW HAVEN</td>\n",
       "      <td>F</td>\n",
       "      <td>18.0</td>\n",
       "      <td>White</td>\n",
       "      <td>Moving Violation</td>\n",
       "      <td>False</td>\n",
       "      <td>No Search Conducted</td>\n",
       "      <td>False</td>\n",
       "      <td>Arrest for Violation</td>\n",
       "      <td>True</td>\n",
       "      <td>-312684437.0</td>\n",
       "    </tr>\n",
       "    <tr>\n",
       "      <th>2010-07-01 15:15:00</th>\n",
       "      <td>2010-00116</td>\n",
       "      <td>Montpelier</td>\n",
       "      <td>Washington County</td>\n",
       "      <td>50023.0</td>\n",
       "      <td>MONKTON RD</td>\n",
       "      <td>NEW HAVEN</td>\n",
       "      <td>M</td>\n",
       "      <td>25.0</td>\n",
       "      <td>White</td>\n",
       "      <td>Moving Violation</td>\n",
       "      <td>False</td>\n",
       "      <td>No Search Conducted</td>\n",
       "      <td>False</td>\n",
       "      <td>Arrest for Violation</td>\n",
       "      <td>True</td>\n",
       "      <td>972184080.0</td>\n",
       "    </tr>\n",
       "    <tr>\n",
       "      <th>2010-07-02 09:15:00</th>\n",
       "      <td>2010-00261</td>\n",
       "      <td>Salisbury</td>\n",
       "      <td>Addison County</td>\n",
       "      <td>50001.0</td>\n",
       "      <td>US RT 7</td>\n",
       "      <td>NEW HAVEN</td>\n",
       "      <td>M</td>\n",
       "      <td>46.0</td>\n",
       "      <td>White</td>\n",
       "      <td>Moving Violation</td>\n",
       "      <td>False</td>\n",
       "      <td>No Search Conducted</td>\n",
       "      <td>False</td>\n",
       "      <td>Arrest for Violation</td>\n",
       "      <td>True</td>\n",
       "      <td>972184080.0</td>\n",
       "    </tr>\n",
       "    <tr>\n",
       "      <th>2010-07-02 23:23:00</th>\n",
       "      <td>2010-00609</td>\n",
       "      <td>Fayston</td>\n",
       "      <td>Washington County</td>\n",
       "      <td>50023.0</td>\n",
       "      <td>GERMAN FLATS RD</td>\n",
       "      <td>MIDDLESEX</td>\n",
       "      <td>M</td>\n",
       "      <td>50.0</td>\n",
       "      <td>White</td>\n",
       "      <td>Moving Violation</td>\n",
       "      <td>False</td>\n",
       "      <td>No Search Conducted</td>\n",
       "      <td>False</td>\n",
       "      <td>Arrest for Violation</td>\n",
       "      <td>True</td>\n",
       "      <td>-964651717.0</td>\n",
       "    </tr>\n",
       "  </tbody>\n",
       "</table>\n",
       "</div>"
      ],
      "text/plain": [
       "                              id location_raw        county_name  county_fips  \\\n",
       "dt                                                                              \n",
       "2010-07-01 00:11:00   2010-00004      Whiting     Addison County      50001.0   \n",
       "2010-07-01 15:15:00   2010-00116   Montpelier  Washington County      50023.0   \n",
       "2010-07-02 09:15:00   2010-00261    Salisbury     Addison County      50001.0   \n",
       "2010-07-02 23:23:00   2010-00609      Fayston  Washington County      50023.0   \n",
       "\n",
       "                    fine_grained_location police_department driver_gender  \\\n",
       "dt                                                                          \n",
       "2010-07-01 00:11:00             N MAIN ST        NEW HAVEN              F   \n",
       "2010-07-01 15:15:00            MONKTON RD        NEW HAVEN              M   \n",
       "2010-07-02 09:15:00               US RT 7        NEW HAVEN              M   \n",
       "2010-07-02 23:23:00       GERMAN FLATS RD        MIDDLESEX              M   \n",
       "\n",
       "                     driver_age driver_race         violation  \\\n",
       "dt                                                              \n",
       "2010-07-01 00:11:00        18.0       White  Moving Violation   \n",
       "2010-07-01 15:15:00        25.0       White  Moving Violation   \n",
       "2010-07-02 09:15:00        46.0       White  Moving Violation   \n",
       "2010-07-02 23:23:00        50.0       White  Moving Violation   \n",
       "\n",
       "                     search_conducted      search_type_raw contraband_found  \\\n",
       "dt                                                                            \n",
       "2010-07-01 00:11:00             False  No Search Conducted            False   \n",
       "2010-07-01 15:15:00             False  No Search Conducted            False   \n",
       "2010-07-02 09:15:00             False  No Search Conducted            False   \n",
       "2010-07-02 23:23:00             False  No Search Conducted            False   \n",
       "\n",
       "                             stop_outcome  is_arrested   officer_id  \n",
       "dt                                                                   \n",
       "2010-07-01 00:11:00  Arrest for Violation         True -312684437.0  \n",
       "2010-07-01 15:15:00  Arrest for Violation         True  972184080.0  \n",
       "2010-07-02 09:15:00  Arrest for Violation         True  972184080.0  \n",
       "2010-07-02 23:23:00  Arrest for Violation         True -964651717.0  "
      ]
     },
     "execution_count": 46,
     "metadata": {},
     "output_type": "execute_result"
    }
   ],
   "source": [
    "# choose only the data for arrested\n",
    "only_arrested=df[df.is_arrested==True]#df but only with id that arrested\n",
    "only_arrested.head(4)\n"
   ]
  },
  {
   "cell_type": "code",
   "execution_count": null,
   "metadata": {},
   "outputs": [
    {
     "data": {
      "image/png": "[encoded data removed]",
      "text/plain": [
       "<Figure size 432x288 with 1 Axes>"
      ]
     },
     "metadata": {
      "needs_background": "light"
     },
     "output_type": "display_data"
    }
   ],
   "source": [
    "#visualization\n",
    "sns.swarmplot(x=\"driver_age\",y=\"violation\", hue=\"driver_gender\",data=only_arrested)\n",
    "plt.legend(title=\"GENDER\",loc=\"best\")\n",
    "plt.title(\"refer to arrested=True only\")\n",
    "plt.show()\n"
   ]
  },
  {
   "cell_type": "markdown",
   "metadata": {},
   "source": [
    "# Calculate the search rate for female and male"
   ]
  },
  {
   "cell_type": "code",
   "execution_count": null,
   "metadata": {},
   "outputs": [
    {
     "name": "stdout",
     "output_type": "stream",
     "text": [
      "0.0064977651320236906\n",
      "0.015051589034170554\n"
     ]
    }
   ],
   "source": [
    "# Calculate the search rate for female and male\n",
    "print(df[df.driver_gender==\"F\"].search_conducted.mean())\n",
    "print(df[df.driver_gender==\"M\"].search_conducted.mean())#is clear that the males is examine more often that female\n"
   ]
  },
  {
   "cell_type": "code",
   "execution_count": null,
   "metadata": {},
   "outputs": [
    {
     "name": "stdout",
     "output_type": "stream",
     "text": [
      "driver_gender  violation                \n",
      "F              Externally Generated Stop    0.025281\n",
      "               Investigatory Stop           0.029885\n",
      "               Moving Violation             0.004940\n",
      "               Suspicion of DWI             0.025253\n",
      "               Vehicle Equipment            0.008904\n",
      "M              Externally Generated Stop    0.043986\n",
      "               Investigatory Stop           0.064264\n",
      "               Moving Violation             0.011479\n",
      "               Suspicion of DWI             0.091618\n",
      "               Vehicle Equipment            0.021793\n",
      "Name: search_conducted, dtype: float64\n"
     ]
    }
   ],
   "source": [
    "# Calculate the search rate for each combination of gender and violation\n",
    "print(df.groupby(['driver_gender','violation']).search_conducted.mean())\n"
   ]
  },
  {
   "cell_type": "markdown",
   "metadata": {},
   "source": []
  },
  {
   "cell_type": "markdown",
   "metadata": {},
   "source": [
    "# Police station and the mean age of violation"
   ]
  },
  {
   "cell_type": "code",
   "execution_count": null,
   "metadata": {},
   "outputs": [
    {
     "data": {
      "image/png": "[encoded data removed]",
      "text/plain": [
       "<Figure size 864x792 with 1 Axes>"
      ]
     },
     "metadata": {
      "needs_background": "light"
     },
     "output_type": "display_data"
    }
   ],
   "source": [
    "##use pivot to find per police station the mean age of violation\n",
    "piv=df.pivot_table(index=\"police_department\",columns=\"violation\",values=\"driver_age\",aggfunc=np.mean)\n",
    "fig=piv.plot(kind=\"barh\",figsize=(12,11))\n",
    "plt.title(\"police station and type of violation pew mean of age\")\n",
    "plt.legend(loc=\"best\")\n",
    "plt.show()\n",
    "\n"
   ]
  },
  {
   "cell_type": "code",
   "execution_count": null,
   "metadata": {},
   "outputs": [
    {
     "name": "stdout",
     "output_type": "stream",
     "text": [
      "0.012014100644632274\n",
      "dt\n",
      "0     0.025763\n",
      "1     0.035462\n",
      "2     0.045024\n",
      "3     0.050847\n",
      "4     0.043478\n",
      "5     0.011765\n",
      "6     0.008982\n",
      "7     0.003988\n",
      "8     0.006484\n",
      "9     0.006089\n",
      "10    0.005952\n",
      "11    0.007500\n",
      "12    0.009573\n",
      "13    0.008294\n",
      "14    0.009614\n",
      "15    0.007509\n",
      "16    0.009669\n",
      "17    0.010067\n",
      "18    0.010298\n",
      "19    0.012781\n",
      "20    0.016594\n",
      "21    0.015578\n",
      "22    0.020292\n",
      "23    0.021755\n",
      "Name: is_arrested, dtype: float64\n"
     ]
    },
    {
     "data": {
      "image/png": "[encoded data removed]",
      "text/plain": [
       "<Figure size 432x288 with 1 Axes>"
      ]
     },
     "metadata": {
      "needs_background": "light"
     },
     "output_type": "display_data"
    }
   ],
   "source": [
    "# Calculate the overall arrest rate\n",
    "print(df.is_arrested.mean())\n",
    "\n",
    "# Calculate the hourly arrest rate\n",
    "print(df.groupby(df.index.hour).is_arrested.mean())\n",
    "\n",
    "# Save the hourly arrest rate\n",
    "hourly_arrest_rate = df.groupby(df.index.hour).is_arrested.mean()\n",
    "\n",
    "#Create a line plot of 'hourly_arrest_rate'\n",
    "hourly_arrest_rate.plot()\n",
    "\n",
    "# Add the xlabel, ylabel, and title\n",
    "plt.xlabel('Hour')\n",
    "plt.ylabel('Arrest Rate')\n",
    "plt.title('Arrest Rate by Time of Day')\n",
    "\n",
    "# Display the plot\n",
    "plt.show()\n",
    "\n"
   ]
  },
  {
   "cell_type": "code",
   "execution_count": null,
   "metadata": {},
   "outputs": [
    {
     "data": {
      "image/png": "[encoded data removed]",
      "text/plain": [
       "<Figure size 432x288 with 1 Axes>"
      ]
     },
     "metadata": {
      "needs_background": "light"
     },
     "output_type": "display_data"
    }
   ],
   "source": [
    "#mean age stopped each year\n",
    "df.driver_age.resample(\"Y\").mean().plot(kind=\"line\",color=\"tomato\")\n",
    "plt.xlabel(\"year\")\n",
    "plt.ylabel(\"mean of age\")\n",
    "plt.title(\"mean of age per year\")\n",
    "\n",
    "plt.show()\n"
   ]
  },
  {
   "cell_type": "code",
   "execution_count": null,
   "metadata": {},
   "outputs": [
    {
     "data": {
      "image/png": "[encoded data removed]",
      "text/plain": [
       "<Figure size 432x288 with 1 Axes>"
      ]
     },
     "metadata": {
      "needs_background": "light"
     },
     "output_type": "display_data"
    }
   ],
   "source": [
    "#########i want per year to see the types of violations if change\n",
    "\n",
    "(df.violation.resample(\"Y\").count()).plot(kind=\"line\",color=\"black\")\n",
    "plt.xlabel(\"year\")\n",
    "plt.ylabel(\"count of violations\")\n",
    "plt.title(\"Countof violations per year\")\n",
    "plt.show()\n",
    "\n",
    "\n",
    "\n"
   ]
  },
  {
   "cell_type": "code",
   "execution_count": null,
   "metadata": {},
   "outputs": [],
   "source": [
    "\n"
   ]
  },
  {
   "cell_type": "code",
   "execution_count": null,
   "metadata": {},
   "outputs": [
    {
     "data": {
      "image/png": "[encoded data removed]",
      "text/plain": [
       "<Figure size 720x360 with 1 Axes>"
      ]
     },
     "metadata": {
      "needs_background": "light"
     },
     "output_type": "display_data"
    }
   ],
   "source": [
    "#Age  for different types of stop_outcome BOXPLOT\n",
    "plt.figure(figsize = (10,5))\n",
    "plot = sns.boxplot(x = \"stop_outcome\", y = \"driver_age\", data = df)\n",
    "plot.set_title(\"Age  for different types of stop_outcome\")\n",
    "plt.show()\n"
   ]
  },
  {
   "cell_type": "code",
   "execution_count": null,
   "metadata": {},
   "outputs": [
    {
     "name": "stderr",
     "output_type": "stream",
     "text": [
      "C:\\Users\\jim\\Anaconda3\\lib\\site-packages\\scipy\\stats\\stats.py:1713: FutureWarning: Using a non-tuple sequence for multidimensional indexing is deprecated; use `arr[tuple(seq)]` instead of `arr[seq]`. In the future this will be interpreted as an array index, `arr[np.array(seq)]`, which will result either in an error or a different result.\n",
      "  return np.add.reduce(sorted[indexer] * weights, axis=axis) / sumval\n"
     ]
    }
   ],
   "source": [
    "#some multiplots\n",
    "sns.pairplot(df, hue=\"driver_gender\", height=2.5)\n",
    "plt.show()"
   ]
  },
  {
   "cell_type": "code",
   "execution_count": null,
   "metadata": {},
   "outputs": [],
   "source": []
  }
 ],
 "metadata": {
  "kernelspec": {
   "display_name": "Python 3",
   "language": "python",
   "name": "python3"
  },
  "language_info": {
   "codemirror_mode": {
    "name": "ipython",
    "version": 3
   },
   "file_extension": ".py",
   "mimetype": "text/x-python",
   "name": "python",
   "nbconvert_exporter": "python",
   "pygments_lexer": "ipython3",
   "version": "3.7.1"
  }
 },
 "nbformat": 4,
 "nbformat_minor": 2
}
